{
 "cells": [
  {
   "cell_type": "code",
   "execution_count": 26,
   "metadata": {},
   "outputs": [],
   "source": [
    "# !pip install gensim\n",
    "# !pip install git+https://github.com/boudinfl/pke.git\n",
    "# !python -m spacy download en\n",
    "# !pip install bert-extractive-summarizer --upgrade --force-reinstall\n",
    "# !pip install spacy==2.1.3 --upgrade --force-reinstall\n",
    "# !pip install -U nltk\n",
    "# !pip install -U pywsd"
   ]
  },
  {
   "cell_type": "code",
   "execution_count": 27,
   "metadata": {},
   "outputs": [],
   "source": [
    "# import nltk\n",
    "# nltk.download('stopwords')\n",
    "# nltk.download('popular')"
   ]
  },
  {
   "cell_type": "code",
   "execution_count": 28,
   "metadata": {},
   "outputs": [],
   "source": [
    "import cv2 \n",
    "import pytesseract\n",
    "import re\n",
    "from pdf2jpg import pdf2jpg\n",
    "import os\n",
    "import pprint\n",
    "import itertools\n",
    "import re\n",
    "import pke\n",
    "import string\n",
    "from nltk.corpus import stopwords\n",
    "from nltk.tokenize import sent_tokenize\n",
    "from flashtext import KeywordProcessor\n",
    "import requests\n",
    "import json\n",
    "import re\n",
    "import random\n",
    "from pywsd.similarity import max_similarity\n",
    "from pywsd.lesk import adapted_lesk\n",
    "from pywsd.lesk import simple_lesk\n",
    "from pywsd.lesk import cosine_lesk\n",
    "from nltk.corpus import wordnet as wn\n",
    "from summarizer import Summarizer\n",
    "\n",
    "#for ocr file"
   ]
  },
  {
   "cell_type": "code",
   "execution_count": 29,
   "metadata": {},
   "outputs": [],
   "source": [
    "def summarizerTool(pdf_path):\n",
    "    inputpath = pdf_path\n",
    "    outputpath = r\"\"\n",
    "    result = pdf2jpg.convert_pdf2jpg(inputpath,outputpath, pages=\"ALL\")\n",
    "    text2 = ''\n",
    "    for filename in os.listdir(pdf_path+'_dir'):\n",
    "        f = os.path.join(pdf_path+'_dir', filename)\n",
    "        print(f)\n",
    "        img = cv2.imread(f)\n",
    "\n",
    "        # img to string\n",
    "        #custom_config = r'--oem 3 --psm 6'\n",
    "#         pytesseract.pytesseract.tesseract_cmd = r'D:\\Coding\\Hackathons\\StudyPat\\spitenv\\Lib\\site-packages\\Tesseract-OCR\\tesseract.exe'\n",
    "        text1 = pytesseract.image_to_string(img)\n",
    "        text2+=text1\n",
    "    text3 = text2.replace('\\n', '')\n",
    "\n",
    "    model = Summarizer()\n",
    "    result = model(text3, min_length=60, max_length = 500 , ratio = 0.4)\n",
    "\n",
    "    summarized_text = ''.join(result)\n",
    "    print (summarized_text)\n",
    "    return text3, summarized_text"
   ]
  },
  {
   "cell_type": "markdown",
   "metadata": {},
   "source": [
    "## Keyword Extraction\n",
    "Get important keywords from the text and filter those keywords that are present in the summarized text."
   ]
  },
  {
   "cell_type": "code",
   "execution_count": 30,
   "metadata": {},
   "outputs": [],
   "source": [
    "def get_nouns_multipartite(text, summarized_text):\n",
    "    out=[]\n",
    "    stoplist = list(string.punctuation)\n",
    "    stoplist += ['-lrb-', '-rrb-', '-lcb-', '-rcb-', '-lsb-', '-rsb-']\n",
    "    stoplist += stopwords.words('english')\n",
    "    extractor = pke.unsupervised.MultipartiteRank()\n",
    "    extractor.load_document(input=text,stoplist=stoplist)\n",
    "    #    not contain punctuation marks or stopwords as candidates.\n",
    "    pos = {'PROPN','NOUN'}\n",
    "    #pos = {'VERB', 'ADJ'}\n",
    "\n",
    "    extractor.candidate_selection(pos=pos, )\n",
    "    # 4. build the Multipartite graph and rank candidates using random walk,\n",
    "    #    alpha controls the weight adjustment mechanism, see TopicRank for\n",
    "    #    threshold/method parameters.\n",
    "    extractor.candidate_weighting(alpha=1.1,\n",
    "                                  threshold=0.75,\n",
    "                                  method='average')\n",
    "    keyphrases = extractor.get_n_best(n=20)\n",
    "\n",
    "    for key in keyphrases:\n",
    "        out.append(key[0])\n",
    "\n",
    "    keywords = out\n",
    "    filtered_keys=[]\n",
    "    for keyword in keywords:\n",
    "        if keyword.lower() in summarized_text.lower():\n",
    "            filtered_keys.append(keyword)\n",
    "    return filtered_keys\n"
   ]
  },
  {
   "cell_type": "markdown",
   "metadata": {},
   "source": [
    "## Sentence Mapping\n",
    "For each keyword get the sentences from the summarized text containing that keyword. "
   ]
  },
  {
   "cell_type": "code",
   "execution_count": 31,
   "metadata": {},
   "outputs": [],
   "source": [
    "def tokenize_sentences(text):\n",
    "    sentences = [sent_tokenize(text)]\n",
    "    sentences = [y for x in sentences for y in x]\n",
    "    # Remove any short sentences less than 20 letters.\n",
    "    sentences = [sentence.strip() for sentence in sentences if len(sentence) > 20]\n",
    "    return sentences\n",
    "\n",
    "def get_sentences_for_keyword(keywords, sentences):\n",
    "    keyword_processor = KeywordProcessor()\n",
    "    keyword_sentences = {}\n",
    "    for word in keywords:\n",
    "        keyword_sentences[word] = []\n",
    "        keyword_processor.add_keyword(word)\n",
    "    for sentence in sentences:\n",
    "        keywords_found = keyword_processor.extract_keywords(sentence)\n",
    "        for key in keywords_found:\n",
    "            keyword_sentences[key].append(sentence)\n",
    "\n",
    "    for key in keyword_sentences.keys():\n",
    "        values = keyword_sentences[key]\n",
    "        values = sorted(values, key=len, reverse=True)\n",
    "        keyword_sentences[key] = values\n",
    "    return keyword_sentences\n",
    "\n",
    "def sentforword(filtered_keys,summarized_text):\n",
    "    sentences = tokenize_sentences(summarized_text)\n",
    "    keyword_sentence_mapping = get_sentences_for_keyword(filtered_keys, sentences)\n",
    "    return keyword_sentence_mapping\n"
   ]
  },
  {
   "cell_type": "markdown",
   "metadata": {},
   "source": [
    "## Generate MCQ\n",
    "Get distractors (wrong answer choices) from Wordnet/Conceptnet and generate MCQ Questions."
   ]
  },
  {
   "cell_type": "code",
   "execution_count": 32,
   "metadata": {},
   "outputs": [],
   "source": [
    "def get_distractors_wordnet(syn,word):\n",
    "    distractors=[]\n",
    "    word= word.lower()\n",
    "    orig_word = word\n",
    "    if len(word.split())>0:\n",
    "        word = word.replace(\" \",\"_\")\n",
    "    hypernym = syn.hypernyms()\n",
    "    if len(hypernym) == 0: \n",
    "        return distractors\n",
    "    for item in hypernym[0].hyponyms():\n",
    "        name = item.lemmas()[0].name()\n",
    "        #print (\"name \",name, \" word\",orig_word)\n",
    "        if name == orig_word:\n",
    "            continue\n",
    "        name = name.replace(\"_\",\" \")\n",
    "        name = \" \".join(w.capitalize() for w in name.split())\n",
    "        if name is not None and name not in distractors:\n",
    "            distractors.append(name)\n",
    "    return distractors\n",
    "\n",
    "def get_wordsense(sent,word):\n",
    "    word= word.lower()\n",
    "    \n",
    "    if len(word.split())>0:\n",
    "        word = word.replace(\" \",\"_\")\n",
    "    \n",
    "    \n",
    "    synsets = wn.synsets(word,'n')\n",
    "    if synsets:\n",
    "        wup = max_similarity(sent, word, 'wup', pos='n')\n",
    "        adapted_lesk_output =  adapted_lesk(sent, word, pos='n')\n",
    "        lowest_index = min (synsets.index(wup),synsets.index(adapted_lesk_output))\n",
    "        return synsets[lowest_index]\n",
    "    else:\n",
    "        return None\n",
    "\n",
    "def final(keyword_sentence_mapping):\n",
    "    key_distractor_list = {}\n",
    "\n",
    "    for keyword in keyword_sentence_mapping:\n",
    "        wordsense = get_wordsense(keyword_sentence_mapping[keyword][0],keyword)\n",
    "        if wordsense:\n",
    "            distractors = get_distractors_wordnet(wordsense,keyword)\n",
    "    #         if len(distractors) ==0:\n",
    "    #             distractors = get_distractors_conceptnet(keyword)\n",
    "            if len(distractors) != 0:\n",
    "                key_distractor_list[keyword] = distractors\n",
    "\n",
    "    index = 1\n",
    "    print (\"#############################################################################\")\n",
    "    print (\"NOTE::::::::  Since the algorithm might have errors along the way, wrong answer choices generated might not be correct for some questions. \")\n",
    "    print (\"#############################################################################\\n\\n\")\n",
    "    all_questions = []\n",
    "    all_choices = {}\n",
    "    all_answers = []\n",
    "    for each in key_distractor_list:\n",
    "        sentence = keyword_sentence_mapping[each][0]\n",
    "        pattern = re.compile(each, re.IGNORECASE)\n",
    "        all_answers.append(each)\n",
    "        print('sentence : '+sentence)\n",
    "        output = pattern.sub( \" _______ \", sentence)\n",
    "        all_questions.append(output)\n",
    "        print (\"%s)\"%(index),output)\n",
    "        choices = [each.capitalize()] + key_distractor_list[each]\n",
    "        top4choices = choices[:4]\n",
    "        random.shuffle(top4choices)\n",
    "        optionchoices = ['a','b','c','d']\n",
    "        temp = []\n",
    "        for idx,choice in enumerate(top4choices):\n",
    "            print (\"\\t\",optionchoices[idx],\")\",\" \",choice)\n",
    "            temp.append(choice)\n",
    "        all_choices[index]=temp\n",
    "        #print (\"\\nMore options: \", choices[4:20],\"\\n\\n\")\n",
    "        index = index + 1\n",
    "    return all_answers, all_questions, all_choices\n"
   ]
  },
  {
   "cell_type": "code",
   "execution_count": 33,
   "metadata": {},
   "outputs": [],
   "source": [
    "def api(pdf_path):\n",
    "    full_text, summarized_text = summarizerTool(pdf_path)\n",
    "    filtered_keys = get_nouns_multipartite(full_text, summarized_text)\n",
    "    keyword_sentence_mapping = sentforword(filtered_keys, summarized_text)\n",
    "    all_answers, all_questions, all_choices = final(keyword_sentence_mapping)\n",
    "    return all_answers, all_questions, all_choices"
   ]
  },
  {
   "cell_type": "code",
   "execution_count": null,
   "metadata": {},
   "outputs": [],
   "source": []
  },
  {
   "cell_type": "code",
   "execution_count": 34,
   "metadata": {},
   "outputs": [
    {
     "name": "stdout",
     "output_type": "stream",
     "text": [
      "egypt.pdf_dir\\0_egypt.pdf.jpg\n",
      "egypt.pdf_dir\\1_egypt.pdf.jpg\n",
      "egypt.pdf_dir\\2_egypt.pdf.jpg\n"
     ]
    },
    {
     "name": "stderr",
     "output_type": "stream",
     "text": [
      "Some weights of the model checkpoint at bert-large-uncased were not used when initializing BertModel: ['cls.predictions.transform.dense.weight', 'cls.predictions.bias', 'cls.seq_relationship.bias', 'cls.seq_relationship.weight', 'cls.predictions.decoder.weight', 'cls.predictions.transform.dense.bias', 'cls.predictions.transform.LayerNorm.bias', 'cls.predictions.transform.LayerNorm.weight']\n",
      "- This IS expected if you are initializing BertModel from the checkpoint of a model trained on another task or with another architecture (e.g. initializing a BertForSequenceClassification model from a BertForPreTraining model).\n",
      "- This IS NOT expected if you are initializing BertModel from the checkpoint of a model that you expect to be exactly identical (initializing a BertForSequenceClassification model from a BertForSequenceClassification model).\n",
      "D:\\Coding\\Hackathons\\StudyPat\\spitenv\\lib\\site-packages\\sklearn\\cluster\\_kmeans.py:870: FutureWarning: The default value of `n_init` will change from 10 to 'auto' in 1.4. Set the value of `n_init` explicitly to suppress the warning\n",
      "  warnings.warn(\n"
     ]
    },
    {
     "name": "stdout",
     "output_type": "stream",
     "text": [
      "The Nile River fed Egyptian civilization for hundreds of years. It begins near the equator in Africa and flows north to the Mediterranean Sea. The river is called the upper Nile in the south and the lower Nile in the north. This soil was fertile, which means it was good for growing crops. RedLand, Black Land The ancient Egyptians lived in narrow bands of land on each side of the Nile. They called this region the black land because of the fertile soil that the floods deposited. The red land was the barren desert beyond the fertile region. Then they used a tool called a shaduf to spread the water across the fields. They were the first to grind wheat into flour and to mix the flour with yeast and water tomake dough rise into bread. Egyptians often painted walls white to reflect the blazing heat. Poorer Egyptians simply went to the roof to cool off after sunset. Egyptians looked for copper as early as 6000 B.C. Later they learned that iron was stronger, and they sought it as well. One ancient painting even shows a man ready to hit a catfish with a wooden hammer. A boomerang isa curved stick that returns to the person who threw it.) Going south, they raised a sail and let the winds that blew in that direction push them. The Nile provided so well for Egyptians that sometimes they had surpluses, or more goods than they needed. This prosperity made life easier and provided greater opportunities for many Egyptians. For example, some ancient Egyptians learned to be scribes, people whose job was to write and keep records. Some skilled artisans erected stone or brick houses and temples. These traders took Egyptian products such as scrolls, linen, gold, and jewelry. They brought back exotic woods, animal skins, and live beasts. Egyptians created a government that divided the empire into 42 provinces. Many officials worked to keep the provinces running smoothly. Priests followed formal rituals and took care of the temples. Before enteringa temple, a priest bathed and put on special linen garments and white sandals. Together, the priests and the ruler held ceremonies to pleasethe gods. In Egypt, people became slaves if they oweda debt, committed a crime, or were captured in war. Egypt was one of thebest places in the ancient world to be a woman. Unlike other ancient African cultures, in Egyptian society men andwomen had fairly equal rights. For example, they could both own and manage their own property. The main job ofmost women was to care for their children and home, but some did other jobs too. Children in Egypt played with toys such as dolls, animal figures, board games, and marbles. Almost all Egyptians married when they were in their early teens. As in many ancientsocieties, much of the knowledge of Egypt came about as priests studied the world to find ways to please the gods. Based on that, Egyptians developed the world’s first practical calendar. Doctors believed that the heart controlled thought and the brain circulated blood, which is the opposite of what is known now. Early Egyptians created a hieroglyphic system with about 700 characters. When a king died, one of his children usually took his place as ruler. The order in which members of a royal family inherit a throne is called the succession. Historians divide ancient Egyptian dynasties into the Old Kingdom,the Middle Kingdom, and the New Kingdom. The Old Kingdom started about 2575 B.C., when the Egyptian empirewas gaining strength. Egyptians believed that if the pharaoh and his subjects honored the gods, their lives would be happy. In such a case, a rival might drive him from power and start a new dynasty. The first rulers of Egypt were often buried in an underground tomb topped by mud brick. They replaced the mud brick with a small pyramid of brick or stone. It is called a step pyramid because its sides rise in a series of giant steps. About 80 years later, a pharaoh named Khufu decided he wanted a monumentthat would show the world how great he was. He ordered the construction of the largest pyramid ever built. Workers dragged each heavy block hundreds offeet and then set it in place. A city called Giza was built for the pyramid workers and the people whofed, clothed, and housed them. Grave robbers broke into the tombs to steal the treasure buried with the pharaohs. During the New Kingdom, pharaohs began building more secret tombs in an area called the Valley of the Kings. This way, the pharaohs hoped to protect their bodies and treasures from robbers. This was to confuse grave robbers about which passage to take. Sometimes relatives, suchas the queen, were buried in the extra rooms. Tombs were supposed to be the palaces of pharaohs in the afterlife. A sculpture of a dead pharaoh had “perfect” features, no matter how he really looked. Paintings showed a person’s head, arms, and legs from the side. Such activities included growing and preparing food, caring for animals, and building boats.\n",
      "#############################################################################\n",
      "NOTE::::::::  Since the algorithm might have errors along the way, wrong answer choices generated might not be correct for some questions. \n",
      "#############################################################################\n",
      "\n",
      "\n",
      "sentence : The Nile provided so well for Egyptians that sometimes they had surpluses, or more goods than they needed.\n",
      "1) The Nile provided so well for  _______  that sometimes they had surpluses, or more goods than they needed.\n",
      "\t a )   Bantu\n",
      "\t b )   Egyptians\n",
      "\t c )   Angolan\n",
      "\t d )   Algerian\n",
      "sentence : About 80 years later, a pharaoh named Khufu decided he wanted a monumentthat would show the world how great he was.\n",
      "2) About 80 years later, a  _______  named Khufu decided he wanted a monumentthat would show the world how great he was.\n",
      "\t a )   Bourbon\n",
      "\t b )   Pharaoh\n",
      "\t c )   Caliph\n",
      "\t d )   Basileus\n",
      "sentence : About 80 years later, a pharaoh named Khufu decided he wanted a monumentthat would show the world how great he was.\n",
      "3) About 80  _______  later, a pharaoh named Khufu decided he wanted a monumentthat would show the world how great he was.\n",
      "\t a )   Years\n",
      "\t b )   Bimillennium\n",
      "\t c )   Bimester\n",
      "\t d )   Air Alert\n",
      "sentence : The first rulers of Egypt were often buried in an underground tomb topped by mud brick.\n",
      "4) The first rulers of Egypt were often buried in an underground  _______  topped by mud brick.\n",
      "\t a )   Birthplace\n",
      "\t b )   End\n",
      "\t c )   Grave\n",
      "\t d )   Tomb\n",
      "sentence : Before enteringa temple, a priest bathed and put on special linen garments and white sandals.\n",
      "5) Before enteringa temple, a  _______  bathed and put on special linen garments and white sandals.\n",
      "\t a )   Priest\n",
      "\t b )   Archdeacon\n",
      "\t c )   Acolyte\n",
      "\t d )   Anagnost\n",
      "sentence : When a king died, one of his children usually took his place as ruler.\n",
      "6) When a  _______  died, one of his children usually took his place as ruler.\n",
      "\t a )   Carolingian\n",
      "\t b )   Capetian\n",
      "\t c )   Czar\n",
      "\t d )   King\n",
      "sentence : For example, some ancient Egyptians learned to be scribes, people whose job was to write and keep records.\n",
      "7) For example, some ancient Egyptians learned to be scribes,  _______  whose job was to write and keep records.\n",
      "\t a )   People\n",
      "\t b )   Actinoid\n",
      "\t c )   Arrangement\n",
      "\t d )   Association\n",
      "sentence : As in many ancientsocieties, much of the knowledge of Egypt came about as priests studied the world to find ways to please the gods.\n",
      "8) As in many ancientsocieties, much of the knowledge of Egypt came about as priests studied the  _______  to find ways to please the gods.\n",
      "\t a )   World\n",
      "\t b )   Reliving\n",
      "\t c )   Reminder\n",
      "\t d )   Life\n",
      "sentence : The main job ofmost women was to care for their children and home, but some did other jobs too.\n",
      "9) The main job ofmost women was to care for their children and home, but some did other  _______  too.\n",
      "\t a )   Assignment\n",
      "\t b )   Function\n",
      "\t c )   Job\n",
      "\t d )   Jobs\n",
      "sentence : Egyptians often painted walls white to reflect the blazing heat.\n",
      "10) Egyptians often painted  _______  white to reflect the blazing heat.\n",
      "\t a )   Backing\n",
      "\t b )   Blanket\n",
      "\t c )   Course\n",
      "\t d )   Walls\n"
     ]
    }
   ],
   "source": [
    "all_answers, all_questions, all_choices = api(pdf_path)"
   ]
  },
  {
   "cell_type": "code",
   "execution_count": 35,
   "metadata": {},
   "outputs": [
    {
     "name": "stdout",
     "output_type": "stream",
     "text": [
      "['egyptians', 'pharaoh', 'years', 'tomb', 'priest', 'king', 'people', 'world', 'jobs', 'walls']\n",
      "['The Nile provided so well for  _______  that sometimes they had surpluses, or more goods than they needed.', 'About 80 years later, a  _______  named Khufu decided he wanted a monumentthat would show the world how great he was.', 'About 80  _______  later, a pharaoh named Khufu decided he wanted a monumentthat would show the world how great he was.', 'The first rulers of Egypt were often buried in an underground  _______  topped by mud brick.', 'Before enteringa temple, a  _______  bathed and put on special linen garments and white sandals.', 'When a  _______  died, one of his children usually took his place as ruler.', 'For example, some ancient Egyptians learned to be scribes,  _______  whose job was to write and keep records.', 'As in many ancientsocieties, much of the knowledge of Egypt came about as priests studied the  _______  to find ways to please the gods.', 'The main job ofmost women was to care for their children and home, but some did other  _______  too.', 'Egyptians often painted  _______  white to reflect the blazing heat.']\n",
      "{1: ['Bantu', 'Egyptians', 'Angolan', 'Algerian'], 2: ['Bourbon', 'Pharaoh', 'Caliph', 'Basileus'], 3: ['Years', 'Bimillennium', 'Bimester', 'Air Alert'], 4: ['Birthplace', 'End', 'Grave', 'Tomb'], 5: ['Priest', 'Archdeacon', 'Acolyte', 'Anagnost'], 6: ['Carolingian', 'Capetian', 'Czar', 'King'], 7: ['People', 'Actinoid', 'Arrangement', 'Association'], 8: ['World', 'Reliving', 'Reminder', 'Life'], 9: ['Assignment', 'Function', 'Job', 'Jobs'], 10: ['Backing', 'Blanket', 'Course', 'Walls']}\n"
     ]
    }
   ],
   "source": [
    "print(all_answers)\n",
    "print(all_questions)\n",
    "print(all_choices)"
   ]
  }
 ],
 "metadata": {
  "kernelspec": {
   "display_name": "Python (spitenv)",
   "language": "python",
   "name": "spitvenv"
  },
  "language_info": {
   "codemirror_mode": {
    "name": "ipython",
    "version": 3
   },
   "file_extension": ".py",
   "mimetype": "text/x-python",
   "name": "python",
   "nbconvert_exporter": "python",
   "pygments_lexer": "ipython3",
   "version": "3.9.6"
  },
  "vscode": {
   "interpreter": {
    "hash": "8e3f1afa96fa2cbdfdd5663274442b663b630f256d4e6363f4907ad8bba8b092"
   }
  }
 },
 "nbformat": 4,
 "nbformat_minor": 2
}
